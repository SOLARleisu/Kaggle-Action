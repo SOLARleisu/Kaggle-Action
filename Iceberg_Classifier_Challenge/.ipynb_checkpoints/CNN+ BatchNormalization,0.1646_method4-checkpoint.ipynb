{
 "cells": [
  {
   "cell_type": "code",
   "execution_count": 2,
   "metadata": {
    "collapsed": false,
    "nbpresent": {
     "id": "4a9e2b2e-3cd7-4422-819c-3c5789f9dc74"
    }
   },
   "outputs": [],
   "source": [
    "\n",
    "import numpy as np\n",
    "import pandas as pd\n",
    "import keras as k\n",
    "from keras.layers import Merge\n",
    "from keras.layers.normalization import BatchNormalization\n",
    "from keras.callbacks import ModelCheckpoint,EarlyStopping,ReduceLROnPlateau\n",
    "from keras.callbacks import History\n",
    "from keras.layers import Activation\n",
    "from keras.models import model_from_json\n",
    "from keras.optimizers import Adam\n",
    "from matplotlib import pyplot as plt\n",
    "from scipy.ndimage import rotate as rot\n",
    "np.random.seed(100)\n"
   ]
  },
  {
   "cell_type": "code",
   "execution_count": 3,
   "metadata": {
    "collapsed": true,
    "nbpresent": {
     "id": "3095d385-6aad-4814-af47-14c9a0af7605"
    }
   },
   "outputs": [],
   "source": [
    "data_path='M:/dataset/iceberg/data/processed/'\n",
    "\n",
    "#Load the data.\n",
    "train = pd.read_json(data_path+\"train.json\")\n",
    "\n",
    "test = pd.read_json(data_path+\"test.json\")"
   ]
  },
  {
   "cell_type": "code",
   "execution_count": 4,
   "metadata": {
    "collapsed": false,
    "nbpresent": {
     "id": "7784baa9-3d0c-400d-b67a-7ca7736ee3dd"
    },
    "scrolled": true
   },
   "outputs": [
    {
     "data": {
      "text/html": [
       "<div>\n",
       "<style>\n",
       "    .dataframe thead tr:only-child th {\n",
       "        text-align: right;\n",
       "    }\n",
       "\n",
       "    .dataframe thead th {\n",
       "        text-align: left;\n",
       "    }\n",
       "\n",
       "    .dataframe tbody tr th {\n",
       "        vertical-align: top;\n",
       "    }\n",
       "</style>\n",
       "<table border=\"1\" class=\"dataframe\">\n",
       "  <thead>\n",
       "    <tr style=\"text-align: right;\">\n",
       "      <th></th>\n",
       "      <th>band_1</th>\n",
       "      <th>band_2</th>\n",
       "      <th>id</th>\n",
       "      <th>inc_angle</th>\n",
       "      <th>is_iceberg</th>\n",
       "    </tr>\n",
       "  </thead>\n",
       "  <tbody>\n",
       "    <tr>\n",
       "      <th>0</th>\n",
       "      <td>[-27.878360999999998, -27.15416, -28.668615, -...</td>\n",
       "      <td>[-27.154118, -29.537888, -31.0306, -32.190483,...</td>\n",
       "      <td>dfd5f913</td>\n",
       "      <td>43.9239</td>\n",
       "      <td>0</td>\n",
       "    </tr>\n",
       "    <tr>\n",
       "      <th>1</th>\n",
       "      <td>[-12.242375, -14.920304999999999, -14.920363, ...</td>\n",
       "      <td>[-31.506321, -27.984554, -26.645678, -23.76760...</td>\n",
       "      <td>e25388fd</td>\n",
       "      <td>38.1562</td>\n",
       "      <td>0</td>\n",
       "    </tr>\n",
       "    <tr>\n",
       "      <th>2</th>\n",
       "      <td>[-24.603676, -24.603714, -24.871029, -23.15277...</td>\n",
       "      <td>[-24.870956, -24.092632, -20.653963, -19.41104...</td>\n",
       "      <td>58b2aaa0</td>\n",
       "      <td>45.2859</td>\n",
       "      <td>1</td>\n",
       "    </tr>\n",
       "    <tr>\n",
       "      <th>3</th>\n",
       "      <td>[-22.454607, -23.082819, -23.998013, -23.99805...</td>\n",
       "      <td>[-27.889421, -27.519794, -27.165262, -29.10350...</td>\n",
       "      <td>4cfc3a18</td>\n",
       "      <td>43.8306</td>\n",
       "      <td>0</td>\n",
       "    </tr>\n",
       "    <tr>\n",
       "      <th>4</th>\n",
       "      <td>[-26.006956, -23.164886, -23.164886, -26.89116...</td>\n",
       "      <td>[-27.206915, -30.259186, -30.259186, -23.16495...</td>\n",
       "      <td>271f93f4</td>\n",
       "      <td>35.6256</td>\n",
       "      <td>0</td>\n",
       "    </tr>\n",
       "  </tbody>\n",
       "</table>\n",
       "</div>"
      ],
      "text/plain": [
       "                                              band_1  \\\n",
       "0  [-27.878360999999998, -27.15416, -28.668615, -...   \n",
       "1  [-12.242375, -14.920304999999999, -14.920363, ...   \n",
       "2  [-24.603676, -24.603714, -24.871029, -23.15277...   \n",
       "3  [-22.454607, -23.082819, -23.998013, -23.99805...   \n",
       "4  [-26.006956, -23.164886, -23.164886, -26.89116...   \n",
       "\n",
       "                                              band_2        id inc_angle  \\\n",
       "0  [-27.154118, -29.537888, -31.0306, -32.190483,...  dfd5f913   43.9239   \n",
       "1  [-31.506321, -27.984554, -26.645678, -23.76760...  e25388fd   38.1562   \n",
       "2  [-24.870956, -24.092632, -20.653963, -19.41104...  58b2aaa0   45.2859   \n",
       "3  [-27.889421, -27.519794, -27.165262, -29.10350...  4cfc3a18   43.8306   \n",
       "4  [-27.206915, -30.259186, -30.259186, -23.16495...  271f93f4   35.6256   \n",
       "\n",
       "   is_iceberg  \n",
       "0           0  \n",
       "1           0  \n",
       "2           1  \n",
       "3           0  \n",
       "4           0  "
      ]
     },
     "execution_count": 4,
     "metadata": {},
     "output_type": "execute_result"
    }
   ],
   "source": [
    "train.head()"
   ]
  },
  {
   "cell_type": "code",
   "execution_count": 5,
   "metadata": {
    "collapsed": false,
    "nbpresent": {
     "id": "904fdf43-e57b-48bb-81ab-0f95585f8bb5"
    }
   },
   "outputs": [
    {
     "name": "stdout",
     "output_type": "stream",
     "text": [
      "                                              band_1  \\\n",
      "0  [-27.878360999999998, -27.15416, -28.668615, -...   \n",
      "1  [-12.242375, -14.920304999999999, -14.920363, ...   \n",
      "2  [-24.603676, -24.603714, -24.871029, -23.15277...   \n",
      "3  [-22.454607, -23.082819, -23.998013, -23.99805...   \n",
      "4  [-26.006956, -23.164886, -23.164886, -26.89116...   \n",
      "\n",
      "                                              band_2        id inc_angle  \\\n",
      "0  [-27.154118, -29.537888, -31.0306, -32.190483,...  dfd5f913   43.9239   \n",
      "1  [-31.506321, -27.984554, -26.645678, -23.76760...  e25388fd   38.1562   \n",
      "2  [-24.870956, -24.092632, -20.653963, -19.41104...  58b2aaa0   45.2859   \n",
      "3  [-27.889421, -27.519794, -27.165262, -29.10350...  4cfc3a18   43.8306   \n",
      "4  [-27.206915, -30.259186, -30.259186, -23.16495...  271f93f4   35.6256   \n",
      "\n",
      "   is_iceberg  \n",
      "0           0  \n",
      "1           0  \n",
      "2           1  \n",
      "3           0  \n",
      "4           0  \n"
     ]
    },
    {
     "data": {
      "text/plain": [
       "(1604, 5)"
      ]
     },
     "execution_count": 5,
     "metadata": {},
     "output_type": "execute_result"
    }
   ],
   "source": [
    "\n",
    "print(train.head())\n",
    "train.shape\n"
   ]
  },
  {
   "cell_type": "code",
   "execution_count": 6,
   "metadata": {
    "collapsed": false,
    "nbpresent": {
     "id": "5bbbea38-0a69-4fb2-80ee-9ff7361f7639"
    }
   },
   "outputs": [
    {
     "data": {
      "text/plain": [
       "band_1        133\n",
       "band_2        133\n",
       "id            133\n",
       "inc_angle     133\n",
       "is_iceberg    133\n",
       "dtype: int64"
      ]
     },
     "execution_count": 6,
     "metadata": {},
     "output_type": "execute_result"
    }
   ],
   "source": [
    "\n",
    "train[train['inc_angle'] == 'na'].count()\n"
   ]
  },
  {
   "cell_type": "code",
   "execution_count": 7,
   "metadata": {
    "collapsed": true,
    "nbpresent": {
     "id": "28c29f9f-ec60-44a2-89ca-72ec19e2f370"
    }
   },
   "outputs": [],
   "source": [
    "train.inc_angle = train.inc_angle.map(lambda x: 0.0 if x == 'na' else x)"
   ]
  },
  {
   "cell_type": "code",
   "execution_count": 8,
   "metadata": {
    "collapsed": true,
    "nbpresent": {
     "id": "a8b416b6-c044-452b-8436-7624f937d366"
    }
   },
   "outputs": [],
   "source": [
    "\n",
    "def transform (df):\n",
    "    images = []\n",
    "    for i, row in df.iterrows():\n",
    "        band_1 = np.array(row['band_1']).reshape(75,75)\n",
    "        band_2 = np.array(row['band_2']).reshape(75,75)\n",
    "        band_3 = band_1 + band_2\n",
    "        \n",
    "        band_1_norm = (band_1 - band_1.mean()) / (band_1.max() - band_1.min())\n",
    "        band_2_norm = (band_2 - band_2. mean()) / (band_2.max() - band_2.min())\n",
    "        band_3_norm = (band_3 - band_3.mean()) / (band_3.max() - band_3.min())\n",
    "        \n",
    "        images.append(np.dstack((band_1_norm, band_2_norm, band_3_norm)))\n",
    "    \n",
    "    return np.array(images)\n"
   ]
  },
  {
   "cell_type": "code",
   "execution_count": 9,
   "metadata": {
    "collapsed": true,
    "nbpresent": {
     "id": "92285132-c15a-4f1c-a3cc-261057515fdd"
    }
   },
   "outputs": [],
   "source": [
    "def augment(images):\n",
    "    image_mirror_lr = []\n",
    "    image_mirror_ud = []\n",
    "    image_rotate = []\n",
    "    for i in range(0,images.shape[0]):\n",
    "        band_1 = images[i,:,:,0]\n",
    "        band_2 = images[i,:,:,1]\n",
    "        band_3 = images[i,:,:,2]\n",
    "            \n",
    "        # mirror left-right\n",
    "        band_1_mirror_lr = np.flip(band_1, 0)\n",
    "        band_2_mirror_lr = np.flip(band_2, 0)\n",
    "        band_3_mirror_lr = np.flip(band_3, 0)\n",
    "        image_mirror_lr.append(np.dstack((band_1_mirror_lr, band_2_mirror_lr, band_3_mirror_lr)))\n",
    "        \n",
    "        # mirror up-down\n",
    "        band_1_mirror_ud = np.flip(band_1, 1)\n",
    "        band_2_mirror_ud = np.flip(band_2, 1)\n",
    "        band_3_mirror_ud = np.flip(band_3, 1)\n",
    "        image_mirror_ud.append(np.dstack((band_1_mirror_ud, band_2_mirror_ud, band_3_mirror_ud)))\n",
    "        \n",
    "        #rotate \n",
    "        band_1_rotate = rot(band_1, 30, reshape=False)\n",
    "        band_2_rotate = rot(band_2, 30, reshape=False)\n",
    "        band_3_rotate = rot(band_3, 30, reshape=False)\n",
    "        image_rotate.append(np.dstack((band_1_rotate, band_2_rotate, band_3_rotate)))\n",
    "        \n",
    "    mirrorlr = np.array(image_mirror_lr)\n",
    "    mirrorud = np.array(image_mirror_ud)\n",
    "    rotated = np.array(image_rotate)\n",
    "    images = np.concatenate((images, mirrorlr, mirrorud, rotated))\n",
    "    return images"
   ]
  },
  {
   "cell_type": "code",
   "execution_count": 10,
   "metadata": {
    "collapsed": false,
    "nbpresent": {
     "id": "f251e1d0-d129-491f-9f20-0d4e8f96cb83"
    }
   },
   "outputs": [
    {
     "name": "stdout",
     "output_type": "stream",
     "text": [
      "(1471,)\n",
      "(5884, 75, 75, 3)\n",
      "(5884,)\n"
     ]
    }
   ],
   "source": [
    "train_X = transform(train)\n",
    "train_y = np.array(train ['is_iceberg'])\n",
    "\n",
    "indx_tr = np.where(train.inc_angle > 0)\n",
    "print (indx_tr[0].shape)\n",
    "\n",
    "train_y = train_y[indx_tr[0]]\n",
    "train_X = train_X[indx_tr[0], ...]\n",
    "\n",
    "train_X = augment(train_X)\n",
    "train_y = np.concatenate((train_y,train_y, train_y, train_y))\n",
    "\n",
    "print (train_X.shape)\n",
    "print (train_y.shape)"
   ]
  },
  {
   "cell_type": "code",
   "execution_count": 14,
   "metadata": {
    "collapsed": false,
    "nbpresent": {
     "id": "463974c4-bcca-4427-886a-1ebe58ba03e1"
    }
   },
   "outputs": [
    {
     "name": "stdout",
     "output_type": "stream",
     "text": [
      "(1471,)\n"
     ]
    }
   ],
   "source": [
    "print(indx_tr[0].shape)"
   ]
  },
  {
   "cell_type": "code",
   "execution_count": 15,
   "metadata": {
    "collapsed": false,
    "nbpresent": {
     "id": "7ef52971-3249-4ca9-a55a-c946a34f6f65"
    }
   },
   "outputs": [
    {
     "name": "stdout",
     "output_type": "stream",
     "text": [
      "(array([   0,    1,    2, ..., 1506, 1507, 1508], dtype=int64),)\n"
     ]
    }
   ],
   "source": [
    "print(indx_tr)"
   ]
  },
  {
   "cell_type": "code",
   "execution_count": 16,
   "metadata": {
    "collapsed": false,
    "nbpresent": {
     "id": "87f06d4d-9e6f-4ed8-be86-1a5263c6bfc4"
    }
   },
   "outputs": [
    {
     "name": "stdout",
     "output_type": "stream",
     "text": [
      "_________________________________________________________________\n",
      "Layer (type)                 Output Shape              Param #   \n",
      "=================================================================\n",
      "conv2d_1 (Conv2D)            (None, 73, 73, 64)        1792      \n",
      "_________________________________________________________________\n",
      "activation_1 (Activation)    (None, 73, 73, 64)        0         \n",
      "_________________________________________________________________\n",
      "batch_normalization_1 (Batch (None, 73, 73, 64)        256       \n",
      "_________________________________________________________________\n",
      "max_pooling2d_1 (MaxPooling2 (None, 36, 36, 64)        0         \n",
      "_________________________________________________________________\n",
      "dropout_1 (Dropout)          (None, 36, 36, 64)        0         \n",
      "_________________________________________________________________\n",
      "conv2d_2 (Conv2D)            (None, 34, 34, 128)       73856     \n",
      "_________________________________________________________________\n",
      "activation_2 (Activation)    (None, 34, 34, 128)       0         \n",
      "_________________________________________________________________\n",
      "batch_normalization_2 (Batch (None, 34, 34, 128)       512       \n",
      "_________________________________________________________________\n",
      "max_pooling2d_2 (MaxPooling2 (None, 17, 17, 128)       0         \n",
      "_________________________________________________________________\n",
      "dropout_2 (Dropout)          (None, 17, 17, 128)       0         \n",
      "_________________________________________________________________\n",
      "conv2d_3 (Conv2D)            (None, 15, 15, 128)       147584    \n",
      "_________________________________________________________________\n",
      "activation_3 (Activation)    (None, 15, 15, 128)       0         \n",
      "_________________________________________________________________\n",
      "batch_normalization_3 (Batch (None, 15, 15, 128)       512       \n",
      "_________________________________________________________________\n",
      "max_pooling2d_3 (MaxPooling2 (None, 7, 7, 128)         0         \n",
      "_________________________________________________________________\n",
      "dropout_3 (Dropout)          (None, 7, 7, 128)         0         \n",
      "_________________________________________________________________\n",
      "conv2d_4 (Conv2D)            (None, 5, 5, 64)          73792     \n",
      "_________________________________________________________________\n",
      "activation_4 (Activation)    (None, 5, 5, 64)          0         \n",
      "_________________________________________________________________\n",
      "batch_normalization_4 (Batch (None, 5, 5, 64)          256       \n",
      "_________________________________________________________________\n",
      "max_pooling2d_4 (MaxPooling2 (None, 2, 2, 64)          0         \n",
      "_________________________________________________________________\n",
      "dropout_4 (Dropout)          (None, 2, 2, 64)          0         \n",
      "_________________________________________________________________\n",
      "flatten_1 (Flatten)          (None, 256)               0         \n",
      "_________________________________________________________________\n",
      "dense_1 (Dense)              (None, 512)               131584    \n",
      "_________________________________________________________________\n",
      "activation_5 (Activation)    (None, 512)               0         \n",
      "_________________________________________________________________\n",
      "batch_normalization_5 (Batch (None, 512)               2048      \n",
      "_________________________________________________________________\n",
      "dropout_5 (Dropout)          (None, 512)               0         \n",
      "_________________________________________________________________\n",
      "dense_2 (Dense)              (None, 256)               131328    \n",
      "_________________________________________________________________\n",
      "activation_6 (Activation)    (None, 256)               0         \n",
      "_________________________________________________________________\n",
      "batch_normalization_6 (Batch (None, 256)               1024      \n",
      "_________________________________________________________________\n",
      "dropout_6 (Dropout)          (None, 256)               0         \n",
      "_________________________________________________________________\n",
      "dense_3 (Dense)              (None, 1)                 257       \n",
      "_________________________________________________________________\n",
      "activation_7 (Activation)    (None, 1)                 0         \n",
      "=================================================================\n",
      "Total params: 564,801\n",
      "Trainable params: 562,497\n",
      "Non-trainable params: 2,304\n",
      "_________________________________________________________________\n"
     ]
    }
   ],
   "source": [
    "model = k.models.Sequential()\n",
    "\n",
    "model.add(k.layers.convolutional.Conv2D(64, kernel_size=(3,3), input_shape=(75,75,3)))\n",
    "model.add(Activation('relu'))\n",
    "model.add(BatchNormalization())\n",
    "model.add(k.layers.convolutional.MaxPooling2D(pool_size=(3,3), strides=(2,2)))\n",
    "model.add(k.layers.Dropout(0.2))\n",
    "\n",
    "model.add(k.layers.convolutional.Conv2D(128, kernel_size=(3, 3)))\n",
    "model.add(Activation('relu'))\n",
    "model.add(BatchNormalization())\n",
    "model.add(k.layers.convolutional.MaxPooling2D(pool_size=(2, 2), strides=(2, 2)))\n",
    "model.add(k.layers.Dropout(0.2))\n",
    "\n",
    "model.add(k.layers.convolutional.Conv2D(128, kernel_size=(3, 3)))\n",
    "model.add(Activation('relu'))\n",
    "model.add(BatchNormalization())\n",
    "model.add(k.layers.convolutional.MaxPooling2D(pool_size=(2, 2), strides=(2, 2)))\n",
    "model.add(k.layers.Dropout(0.3))\n",
    "\n",
    "model.add(k.layers.convolutional.Conv2D(64, kernel_size=(3, 3)))\n",
    "model.add(Activation('relu'))\n",
    "model.add(BatchNormalization())\n",
    "model.add(k.layers.convolutional.MaxPooling2D(pool_size=(2, 2), strides=(2, 2)))\n",
    "model.add(k.layers.Dropout(0.3))\n",
    "\n",
    "model.add(k.layers.Flatten())\n",
    "\n",
    "model.add(k.layers.Dense(512))\n",
    "model.add(Activation('relu'))\n",
    "model.add(BatchNormalization())\n",
    "model.add(k.layers.Dropout(0.2))\n",
    "\n",
    "model.add(k.layers.Dense(256))\n",
    "model.add(Activation('relu'))\n",
    "model.add(BatchNormalization())\n",
    "model.add(k.layers.Dropout(0.2))\n",
    "\n",
    "\n",
    "model.add(k.layers.Dense(1))\n",
    "model.add(Activation('sigmoid'))\n",
    "\n",
    "mypotim=Adam(lr=0.01, decay=0.0)\n",
    "model.compile(loss='binary_crossentropy', optimizer = mypotim, metrics=['accuracy'])\n",
    "\n",
    "model.summary()"
   ]
  },
  {
   "cell_type": "code",
   "execution_count": 24,
   "metadata": {
    "collapsed": true
   },
   "outputs": [],
   "source": [
    "\n",
    "batch_size = 64\n",
    "early_stopping = EarlyStopping(monitor = 'val_loss', patience = 10, verbose = 0, mode= 'min')\n",
    "reduce_lr_loss = ReduceLROnPlateau(monitor='val_loss', factor = 0.1, patience = 7, verbose =1, \n",
    "                                   epsilon = 1e-4, mode='min', min_lr = 0.0001)\n",
    "model_filepath='../weights.best.hdf5'\n",
    "checkpoint = ModelCheckpoint(model_filepath, monitor='val_loss', verbose=1, save_best_only=True, mode='min')\n",
    "callbacks_list = [early_stopping, checkpoint,reduce_lr_loss]\n",
    "\n"
   ]
  },
  {
   "cell_type": "code",
   "execution_count": 36,
   "metadata": {
    "collapsed": false
   },
   "outputs": [
    {
     "name": "stderr",
     "output_type": "stream",
     "text": [
      "E:\\Program Files\\Anaconda3\\envs\\tensorflow_py35\\lib\\site-packages\\sklearn\\model_selection\\_split.py:2010: FutureWarning: From version 0.21, test_size will always complement train_size unless both are specified.\n",
      "  FutureWarning)\n"
     ]
    }
   ],
   "source": [
    "from sklearn.model_selection import train_test_split\n",
    "X_train_cv, X_valid, y_train_cv, y_valid = train_test_split(train_X, train_y, random_state=1, train_size=0.75)"
   ]
  },
  {
   "cell_type": "code",
   "execution_count": 37,
   "metadata": {
    "collapsed": false
   },
   "outputs": [
    {
     "name": "stdout",
     "output_type": "stream",
     "text": [
      "Train on 3971 samples, validate on 442 samples\n",
      "Epoch 1/20\n",
      "3968/3971 [============================>.] - ETA: 0s - loss: 0.0643 - acc: 0.9783Epoch 00000: val_loss improved from 0.18699 to 0.01923, saving model to ../weights.best.hdf5\n",
      "3971/3971 [==============================] - 3s - loss: 0.0642 - acc: 0.9783 - val_loss: 0.0192 - val_acc: 0.9955\n",
      "Epoch 2/20\n",
      "3968/3971 [============================>.] - ETA: 0s - loss: 0.0565 - acc: 0.9806Epoch 00001: val_loss did not improve\n",
      "3971/3971 [==============================] - 2s - loss: 0.0593 - acc: 0.9804 - val_loss: 0.0241 - val_acc: 0.9910\n",
      "Epoch 3/20\n",
      "3904/3971 [============================>.] - ETA: 0s - loss: 0.0526 - acc: 0.9849Epoch 00002: val_loss improved from 0.01923 to 0.01807, saving model to ../weights.best.hdf5\n",
      "3971/3971 [==============================] - 2s - loss: 0.0550 - acc: 0.9846 - val_loss: 0.0181 - val_acc: 0.9932\n",
      "Epoch 4/20\n",
      "3904/3971 [============================>.] - ETA: 0s - loss: 0.0588 - acc: 0.9826Epoch 00003: val_loss improved from 0.01807 to 0.01774, saving model to ../weights.best.hdf5\n",
      "3971/3971 [==============================] - 3s - loss: 0.0612 - acc: 0.9821 - val_loss: 0.0177 - val_acc: 0.9977\n",
      "Epoch 5/20\n",
      "3904/3971 [============================>.] - ETA: 0s - loss: 0.0486 - acc: 0.9862Epoch 00004: val_loss did not improve\n",
      "3971/3971 [==============================] - 2s - loss: 0.0489 - acc: 0.9859 - val_loss: 0.0205 - val_acc: 0.9887\n",
      "Epoch 6/20\n",
      "3968/3971 [============================>.] - ETA: 0s - loss: 0.0398 - acc: 0.9879Epoch 00005: val_loss improved from 0.01774 to 0.01605, saving model to ../weights.best.hdf5\n",
      "3971/3971 [==============================] - 3s - loss: 0.0423 - acc: 0.9874 - val_loss: 0.0161 - val_acc: 0.9932\n",
      "Epoch 7/20\n",
      "3904/3971 [============================>.] - ETA: 0s - loss: 0.0511 - acc: 0.9849Epoch 00006: val_loss did not improve\n",
      "3971/3971 [==============================] - 2s - loss: 0.0549 - acc: 0.9836 - val_loss: 0.0259 - val_acc: 0.9887\n",
      "Epoch 8/20\n",
      "3968/3971 [============================>.] - ETA: 0s - loss: 0.0473 - acc: 0.9864Epoch 00007: val_loss did not improve\n",
      "3971/3971 [==============================] - 2s - loss: 0.0487 - acc: 0.9859 - val_loss: 0.0212 - val_acc: 0.9910\n",
      "Epoch 9/20\n",
      "3904/3971 [============================>.] - ETA: 0s - loss: 0.0419 - acc: 0.9898Epoch 00008: val_loss did not improve\n",
      "3971/3971 [==============================] - 2s - loss: 0.0418 - acc: 0.9899 - val_loss: 0.0210 - val_acc: 0.9887\n",
      "Epoch 10/20\n",
      "3904/3971 [============================>.] - ETA: 0s - loss: 0.0376 - acc: 0.9880Epoch 00009: val_loss did not improve\n",
      "3971/3971 [==============================] - 2s - loss: 0.0374 - acc: 0.9882 - val_loss: 0.0179 - val_acc: 0.9887\n",
      "Epoch 11/20\n",
      "3904/3971 [============================>.] - ETA: 0s - loss: 0.0359 - acc: 0.9885Epoch 00010: val_loss did not improve\n",
      "3971/3971 [==============================] - 2s - loss: 0.0360 - acc: 0.9884 - val_loss: 0.0197 - val_acc: 0.9887\n",
      "Epoch 12/20\n",
      "3904/3971 [============================>.] - ETA: 0s - loss: 0.0335 - acc: 0.9892Epoch 00011: val_loss did not improve\n",
      "3971/3971 [==============================] - 2s - loss: 0.0341 - acc: 0.9892 - val_loss: 0.0228 - val_acc: 0.9887\n",
      "Epoch 13/20\n",
      "3968/3971 [============================>.] - ETA: 0s - loss: 0.0288 - acc: 0.9904Epoch 00012: val_loss did not improve\n",
      "3971/3971 [==============================] - 2s - loss: 0.0288 - acc: 0.9904 - val_loss: 0.0181 - val_acc: 0.9932\n",
      "Epoch 14/20\n",
      "3904/3971 [============================>.] - ETA: 0s - loss: 0.0267 - acc: 0.9908Epoch 00013: val_loss did not improve\n",
      "\n",
      "Epoch 00013: reducing learning rate to 0.0001.\n",
      "3971/3971 [==============================] - 2s - loss: 0.0268 - acc: 0.9904 - val_loss: 0.0173 - val_acc: 0.9932\n",
      "Epoch 15/20\n",
      "3904/3971 [============================>.] - ETA: 0s - loss: 0.0274 - acc: 0.9915Epoch 00014: val_loss did not improve\n",
      "3971/3971 [==============================] - 2s - loss: 0.0273 - acc: 0.9914 - val_loss: 0.0173 - val_acc: 0.9955\n",
      "Epoch 16/20\n",
      "3968/3971 [============================>.] - ETA: 0s - loss: 0.0243 - acc: 0.9924Epoch 00015: val_loss did not improve\n",
      "3971/3971 [==============================] - 2s - loss: 0.0243 - acc: 0.9924 - val_loss: 0.0176 - val_acc: 0.9932\n",
      "Epoch 17/20\n",
      "3968/3971 [============================>.] - ETA: 0s - loss: 0.0249 - acc: 0.9909Epoch 00016: val_loss did not improve\n",
      "3971/3971 [==============================] - 2s - loss: 0.0249 - acc: 0.9909 - val_loss: 0.0186 - val_acc: 0.9910\n"
     ]
    }
   ],
   "source": [
    "\n",
    "history = model.fit(X_train_cv, y_train_cv, batch_size = batch_size, epochs =20, verbose =1, validation_split = 0.1, \n",
    "          callbacks=callbacks_list)\n"
   ]
  },
  {
   "cell_type": "code",
   "execution_count": 38,
   "metadata": {
    "collapsed": false
   },
   "outputs": [
    {
     "name": "stdout",
     "output_type": "stream",
     "text": [
      "1471/1471 [==============================] - 0s     \n",
      "Test loss: 0.0164772497198\n",
      "Test accuracy: 0.99592114208\n"
     ]
    }
   ],
   "source": [
    "score = model.evaluate(X_valid, y_valid, verbose=1)\n",
    "print('Test loss:', score[0])\n",
    "print('Test accuracy:', score[1])\n"
   ]
  },
  {
   "cell_type": "code",
   "execution_count": 39,
   "metadata": {
    "collapsed": false
   },
   "outputs": [
    {
     "name": "stdout",
     "output_type": "stream",
     "text": [
      "dict_keys(['val_loss', 'acc', 'val_acc', 'loss', 'lr'])\n"
     ]
    },
    {
     "data": {
      "image/png": "[encoded data removed]",
      "text/plain": [
       "<matplotlib.figure.Figure at 0x18e1b9740f0>"
      ]
     },
     "metadata": {},
     "output_type": "display_data"
    }
   ],
   "source": [
    "print (history.history.keys())\n",
    "fig = plt.figure()\n",
    "plt.plot(history.history['acc'])\n",
    "plt.plot(history.history['val_acc'])\n",
    "plt.title('model accuracy')\n",
    "plt.ylabel('accuracy')\n",
    "plt.xlabel('epoch')\n",
    "plt.legend(['train','test'],loc='upper left')\n",
    "plt.show()"
   ]
  },
  {
   "cell_type": "code",
   "execution_count": 40,
   "metadata": {
    "collapsed": false
   },
   "outputs": [
    {
     "data": {
      "image/png": "[encoded data removed]",
      "text/plain": [
       "<matplotlib.figure.Figure at 0x18e1b971fd0>"
      ]
     },
     "metadata": {},
     "output_type": "display_data"
    }
   ],
   "source": [
    "plt.plot(history.history['loss'])\n",
    "plt.plot(history.history['val_loss'])\n",
    "plt.title('model loss')\n",
    "plt.ylabel('loss')\n",
    "plt.xlabel('epoch')\n",
    "plt.legend(['train', 'test'], loc='upper right')\n",
    "plt.show()"
   ]
  },
  {
   "cell_type": "code",
   "execution_count": 41,
   "metadata": {
    "collapsed": false
   },
   "outputs": [
    {
     "name": "stdout",
     "output_type": "stream",
     "text": [
      "(8424, 75, 75, 3)\n"
     ]
    }
   ],
   "source": [
    "test.inc_angle = test.inc_angle.replace('na',0)\n",
    "test_X = transform(test)\n",
    "print (test_X.shape)"
   ]
  },
  {
   "cell_type": "code",
   "execution_count": 46,
   "metadata": {
    "collapsed": false
   },
   "outputs": [
    {
     "name": "stdout",
     "output_type": "stream",
     "text": [
      "8256/8424 [============================>.] - ETA: 0s"
     ]
    }
   ],
   "source": [
    "pred_test = model.predict(test_X, verbose=1)\n",
    "pred_test = pred_test.clip(min=0.005, max=0.995)"
   ]
  },
  {
   "cell_type": "code",
   "execution_count": 47,
   "metadata": {
    "collapsed": true
   },
   "outputs": [],
   "source": [
    "submission = pd.DataFrame({'id': test[\"id\"], 'is_iceberg': pred_test.reshape((pred_test.shape[0]))})\n",
    "submission.to_csv('method4_submission.csv', index=False)"
   ]
  },
  {
   "cell_type": "code",
   "execution_count": 48,
   "metadata": {
    "collapsed": false
   },
   "outputs": [
    {
     "data": {
      "text/plain": [
       "(8424, 1)"
      ]
     },
     "execution_count": 48,
     "metadata": {},
     "output_type": "execute_result"
    }
   ],
   "source": [
    "pred_test.shape"
   ]
  },
  {
   "cell_type": "code",
   "execution_count": 49,
   "metadata": {
    "collapsed": false
   },
   "outputs": [
    {
     "name": "stdout",
     "output_type": "stream",
     "text": [
      "[[ 0.005     ]\n",
      " [ 0.995     ]\n",
      " [ 0.68625885]\n",
      " ..., \n",
      " [ 0.005     ]\n",
      " [ 0.995     ]\n",
      " [ 0.995     ]]\n"
     ]
    }
   ],
   "source": [
    "print(pred_test)"
   ]
  },
  {
   "cell_type": "code",
   "execution_count": null,
   "metadata": {
    "collapsed": true
   },
   "outputs": [],
   "source": []
  }
 ],
 "metadata": {
  "kernelspec": {
   "display_name": "Python [conda env:tensorflow_py35]",
   "language": "python",
   "name": "conda-env-tensorflow_py35-py"
  },
  "language_info": {
   "codemirror_mode": {
    "name": "ipython",
    "version": 3
   },
   "file_extension": ".py",
   "mimetype": "text/x-python",
   "name": "python",
   "nbconvert_exporter": "python",
   "pygments_lexer": "ipython3",
   "version": "3.5.4"
  }
 },
 "nbformat": 4,
 "nbformat_minor": 1
}
